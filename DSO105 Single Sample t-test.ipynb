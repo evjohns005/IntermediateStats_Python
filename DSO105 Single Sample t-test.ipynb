{
 "cells": [
  {
   "cell_type": "markdown",
   "id": "736a04b5",
   "metadata": {},
   "source": [
    "# To test whether a cost of $25,000 for a hybrid vehicle in 2013 is different than the mean cost."
   ]
  },
  {
   "cell_type": "code",
   "execution_count": 4,
   "id": "841b8dc7",
   "metadata": {},
   "outputs": [],
   "source": [
    "import pandas as pd\n",
    "import numpy as np\n",
    "from scipy.stats import norm\n",
    "from scipy import stats"
   ]
  },
  {
   "cell_type": "markdown",
   "id": "6b09e619",
   "metadata": {},
   "source": [
    "## Import Data"
   ]
  },
  {
   "cell_type": "code",
   "execution_count": 8,
   "id": "80cf6968",
   "metadata": {},
   "outputs": [
    {
     "data": {
      "text/html": [
       "<div>\n",
       "<style scoped>\n",
       "    .dataframe tbody tr th:only-of-type {\n",
       "        vertical-align: middle;\n",
       "    }\n",
       "\n",
       "    .dataframe tbody tr th {\n",
       "        vertical-align: top;\n",
       "    }\n",
       "\n",
       "    .dataframe thead th {\n",
       "        text-align: right;\n",
       "    }\n",
       "</style>\n",
       "<table border=\"1\" class=\"dataframe\">\n",
       "  <thead>\n",
       "    <tr style=\"text-align: right;\">\n",
       "      <th></th>\n",
       "      <th>carid</th>\n",
       "      <th>vehicle</th>\n",
       "      <th>year</th>\n",
       "      <th>msrp</th>\n",
       "      <th>accelrate</th>\n",
       "      <th>mpg</th>\n",
       "      <th>mpgmpge</th>\n",
       "      <th>carclass</th>\n",
       "      <th>carclass_id</th>\n",
       "    </tr>\n",
       "  </thead>\n",
       "  <tbody>\n",
       "    <tr>\n",
       "      <th>0</th>\n",
       "      <td>111</td>\n",
       "      <td>Prius C</td>\n",
       "      <td>2013</td>\n",
       "      <td>19080</td>\n",
       "      <td>8.70</td>\n",
       "      <td>50</td>\n",
       "      <td>50</td>\n",
       "      <td>C</td>\n",
       "      <td>1</td>\n",
       "    </tr>\n",
       "    <tr>\n",
       "      <th>1</th>\n",
       "      <td>112</td>\n",
       "      <td>Jetta</td>\n",
       "      <td>2013</td>\n",
       "      <td>24995</td>\n",
       "      <td>12.66</td>\n",
       "      <td>45</td>\n",
       "      <td>45</td>\n",
       "      <td>C</td>\n",
       "      <td>1</td>\n",
       "    </tr>\n",
       "    <tr>\n",
       "      <th>2</th>\n",
       "      <td>113</td>\n",
       "      <td>Civic</td>\n",
       "      <td>2013</td>\n",
       "      <td>24360</td>\n",
       "      <td>10.20</td>\n",
       "      <td>44</td>\n",
       "      <td>44</td>\n",
       "      <td>C</td>\n",
       "      <td>1</td>\n",
       "    </tr>\n",
       "    <tr>\n",
       "      <th>3</th>\n",
       "      <td>114</td>\n",
       "      <td>Prius</td>\n",
       "      <td>2013</td>\n",
       "      <td>24200</td>\n",
       "      <td>10.20</td>\n",
       "      <td>50</td>\n",
       "      <td>50</td>\n",
       "      <td>M</td>\n",
       "      <td>3</td>\n",
       "    </tr>\n",
       "    <tr>\n",
       "      <th>4</th>\n",
       "      <td>115</td>\n",
       "      <td>Fusion FWD</td>\n",
       "      <td>2013</td>\n",
       "      <td>27200</td>\n",
       "      <td>11.72</td>\n",
       "      <td>47</td>\n",
       "      <td>47</td>\n",
       "      <td>M</td>\n",
       "      <td>3</td>\n",
       "    </tr>\n",
       "  </tbody>\n",
       "</table>\n",
       "</div>"
      ],
      "text/plain": [
       "   carid     vehicle  year   msrp  accelrate  mpg  mpgmpge carclass  \\\n",
       "0    111     Prius C  2013  19080       8.70   50       50        C   \n",
       "1    112       Jetta  2013  24995      12.66   45       45        C   \n",
       "2    113       Civic  2013  24360      10.20   44       44        C   \n",
       "3    114       Prius  2013  24200      10.20   50       50        M   \n",
       "4    115  Fusion FWD  2013  27200      11.72   47       47        M   \n",
       "\n",
       "   carclass_id  \n",
       "0            1  \n",
       "1            1  \n",
       "2            1  \n",
       "3            3  \n",
       "4            3  "
      ]
     },
     "execution_count": 8,
     "metadata": {},
     "output_type": "execute_result"
    }
   ],
   "source": [
    "hybrid2013 = pd.read_csv('C:/Users/evjoh/Downloads/hybrid2013.csv')\n",
    "hybrid2013.head()"
   ]
  },
  {
   "cell_type": "markdown",
   "id": "741d1de8",
   "metadata": {},
   "source": [
    "## Test Assumptions to see if the data is normally distributed."
   ]
  },
  {
   "cell_type": "code",
   "execution_count": 9,
   "id": "6322920d",
   "metadata": {},
   "outputs": [
    {
     "data": {
      "text/plain": [
       "<AxesSubplot:>"
      ]
     },
     "execution_count": 9,
     "metadata": {},
     "output_type": "execute_result"
    },
    {
     "data": {
      "image/png": "[encoded data removed]",
      "text/plain": [
       "<Figure size 432x288 with 1 Axes>"
      ]
     },
     "metadata": {
      "needs_background": "light"
     },
     "output_type": "display_data"
    }
   ],
   "source": [
    "hybrid2013['msrp'].hist()"
   ]
  },
  {
   "cell_type": "markdown",
   "id": "ed8417de",
   "metadata": {},
   "source": [
    "#### Data is not normally distributed.  Will continue to use the dataset for practicing purposes."
   ]
  },
  {
   "cell_type": "markdown",
   "id": "41276c60",
   "metadata": {},
   "source": [
    "## Run the single sample t-test"
   ]
  },
  {
   "cell_type": "code",
   "execution_count": 12,
   "id": "ec13fc50",
   "metadata": {},
   "outputs": [
    {
     "data": {
      "text/plain": [
       "Ttest_1sampResult(statistic=6.003733172775179, pvalue=3.923180751883552e-07)"
      ]
     },
     "execution_count": 12,
     "metadata": {},
     "output_type": "execute_result"
    }
   ],
   "source": [
    "stats.ttest_1samp(hybrid2013['msrp'], 25000)"
   ]
  },
  {
   "cell_type": "markdown",
   "id": "13ffb91b",
   "metadata": {},
   "source": [
    "#### P-value shows this data is significant, meaning that buying a hybrid car for $25,000 in 2013 is different than the population mean.  To test if it is higher or lower:"
   ]
  },
  {
   "cell_type": "code",
   "execution_count": 13,
   "id": "ee86cec6",
   "metadata": {},
   "outputs": [
    {
     "data": {
      "text/plain": [
       "42943.48837209302"
      ]
     },
     "execution_count": 13,
     "metadata": {},
     "output_type": "execute_result"
    }
   ],
   "source": [
    "hybrid2013.msrp.mean()"
   ]
  },
  {
   "cell_type": "markdown",
   "id": "a08ab442",
   "metadata": {},
   "source": [
    "#### Mean is shown to be 42,943 which means that buying one for 25,000 would be an awesome deal! </br>"
   ]
  },
  {
   "cell_type": "markdown",
   "id": "e56be254",
   "metadata": {},
   "source": [
    "# To determine whether miles per gallong (mpg) rating of 40 is unusual for a hybrid car on the market in 2013:"
   ]
  },
  {
   "cell_type": "code",
   "execution_count": 14,
   "id": "fcd040fa",
   "metadata": {},
   "outputs": [
    {
     "data": {
      "text/plain": [
       "<AxesSubplot:>"
      ]
     },
     "execution_count": 14,
     "metadata": {},
     "output_type": "execute_result"
    },
    {
     "data": {
      "image/png": "[encoded data removed]",
      "text/plain": [
       "<Figure size 432x288 with 1 Axes>"
      ]
     },
     "metadata": {
      "needs_background": "light"
     },
     "output_type": "display_data"
    }
   ],
   "source": [
    "hybrid2013['mpg'].hist()"
   ]
  },
  {
   "cell_type": "code",
   "execution_count": 16,
   "id": "1a67888f",
   "metadata": {},
   "outputs": [
    {
     "data": {
      "text/plain": [
       "Ttest_1sampResult(statistic=-4.427320491687408, pvalue=6.67005084670698e-05)"
      ]
     },
     "execution_count": 16,
     "metadata": {},
     "output_type": "execute_result"
    }
   ],
   "source": [
    "stats.ttest_1samp(hybrid2013['mpg'], 40)"
   ]
  },
  {
   "cell_type": "code",
   "execution_count": 17,
   "id": "f8686477",
   "metadata": {},
   "outputs": [
    {
     "data": {
      "text/plain": [
       "33.48837209302326"
      ]
     },
     "execution_count": 17,
     "metadata": {},
     "output_type": "execute_result"
    }
   ],
   "source": [
    "hybrid2013.mpg.mean()"
   ]
  },
  {
   "cell_type": "markdown",
   "id": "98ef0858",
   "metadata": {},
   "source": [
    "#### From this analysis, we can see that the p-value shows there is a high significance that 40 mpg is different that the population mean for hybrid cars.  Upon further analysis, we were able to find that the population mean for hybrid cars in 2013 is 33.5 mpg."
   ]
  },
  {
   "cell_type": "code",
   "execution_count": null,
   "id": "54dc70c0",
   "metadata": {},
   "outputs": [],
   "source": []
  }
 ],
 "metadata": {
  "kernelspec": {
   "display_name": "Python 3 (ipykernel)",
   "language": "python",
   "name": "python3"
  },
  "language_info": {
   "codemirror_mode": {
    "name": "ipython",
    "version": 3
   },
   "file_extension": ".py",
   "mimetype": "text/x-python",
   "name": "python",
   "nbconvert_exporter": "python",
   "pygments_lexer": "ipython3",
   "version": "3.10.4"
  }
 },
 "nbformat": 4,
 "nbformat_minor": 5
}
